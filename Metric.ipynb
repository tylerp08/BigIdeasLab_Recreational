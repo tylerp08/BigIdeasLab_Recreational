{
 "cells": [
  {
   "cell_type": "markdown",
   "id": "382ea750-f375-46ad-8001-0b4a4354878b",
   "metadata": {},
   "source": [
    "**Intro:**\n",
    "\n",
    "For our project, we decided to judge the best neighborhood on its amount of facilities for recreational activites.\r\n",
    "In order to decide this, one of us looked at the courts and rinks, another at the playgrounds, and another at the pools. We were initially unsure of what metric to use, but once we found the pool and playground datasets, we made the connection to find our third dataset of courts and rinks. From there, we found a connection through all three datasets and chose to decide which neighborhood was the best for recreational activities."
   ]
  },
  {
   "cell_type": "code",
   "execution_count": null,
   "id": "81f27ad9-93f4-4284-bc74-1041fb9e8014",
   "metadata": {},
   "outputs": [],
   "source": []
  }
 ],
 "metadata": {
  "kernelspec": {
   "display_name": "Python 3 (ipykernel)",
   "language": "python",
   "name": "python3"
  },
  "language_info": {
   "codemirror_mode": {
    "name": "ipython",
    "version": 3
   },
   "file_extension": ".py",
   "mimetype": "text/x-python",
   "name": "python",
   "nbconvert_exporter": "python",
   "pygments_lexer": "ipython3",
   "version": "3.12.4"
  }
 },
 "nbformat": 4,
 "nbformat_minor": 5
}
